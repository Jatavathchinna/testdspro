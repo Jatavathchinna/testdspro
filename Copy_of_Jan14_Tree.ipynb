{
  "nbformat": 4,
  "nbformat_minor": 0,
  "metadata": {
    "colab": {
      "provenance": []
    },
    "kernelspec": {
      "name": "python3",
      "display_name": "Python 3"
    },
    "language_info": {
      "name": "python"
    }
  },
  "cells": [
    {
      "cell_type": "code",
      "execution_count": null,
      "metadata": {
        "id": "K8WJrnecycjY"
      },
      "outputs": [],
      "source": [
        "#This code for binary tree which has 0,1,2--->nodes(morethan two nodes are not allowed in binary tree)\n",
        "\n",
        "class TreeNode :\n",
        "  def __init__(self,data):\n",
        "    self.data=data\n",
        "    self.left=None #represent the left child\n",
        "    self.right=None #represent the right child\n",
        "\n",
        "  def setData(self,data):\n",
        "    self.data=data\n",
        "  def getData(self):\n",
        "    return self.data\n",
        "  def setLeft(self,node):\n",
        "    self.left=node\n",
        "  def getLeft(self):\n",
        "    return self.left\n",
        "  def setRight(self,node):\n",
        "    self.right=node\n",
        "  def getRight(self):\n",
        "    return self.right\n"
      ]
    },
    {
      "cell_type": "code",
      "source": [
        "#constructing the tree\n",
        "root = TreeNode(1)\n",
        "\n",
        "#left subtree\n",
        "leftR=TreeNode(2)\n",
        "leftR.setLeft(TreeNode(3))\n",
        "leftR.setRight(TreeNode(4))\n",
        "root.setLeft(leftR)\n",
        "\n",
        "#right subtree\n",
        "rightR=TreeNode(5)\n",
        "rightR.setLeft(TreeNode(6))\n",
        "rightR.setRight(TreeNode(7))\n",
        "root.setRight(rightR)\n"
      ],
      "metadata": {
        "id": "teqQ-_584YHB"
      },
      "execution_count": null,
      "outputs": []
    },
    {
      "cell_type": "code",
      "source": [
        "#pre Order Traversal\n",
        "\n",
        "def preOrder(root):\n",
        "\n",
        "  #base condition\n",
        "  if not root:\n",
        "    return\n",
        "  print(root.getData(),end=\"->\")\n",
        "  #preOrder traversal of left sub tree\n",
        "  preOrder(root.getLeft())\n",
        "  #preOrder traversal of right subtree\n",
        "  preOrder(root.getRight())\n",
        "\n"
      ],
      "metadata": {
        "id": "s8OXDuUZ8jsy"
      },
      "execution_count": null,
      "outputs": []
    },
    {
      "cell_type": "code",
      "source": [
        "preOrder(root)"
      ],
      "metadata": {
        "colab": {
          "base_uri": "https://localhost:8080/"
        },
        "id": "mHbJNoKrCtur",
        "outputId": "9a921381-2eb0-424d-8e6f-58bde6050e84"
      },
      "execution_count": null,
      "outputs": [
        {
          "output_type": "stream",
          "name": "stdout",
          "text": [
            "1->2->3->4->5->6->7->"
          ]
        }
      ]
    },
    {
      "cell_type": "code",
      "source": [
        "#in Order Traversal\n",
        "\n",
        "def inOrder(root):\n",
        "\n",
        "  #base condition\n",
        "  if not root:\n",
        "    return\n",
        "  #traversal the left subtree\n",
        "  inOrder(root.getLeft())\n",
        "\n",
        "  #print the root\n",
        "  print(root.getData(),end=\"->\")\n",
        "\n",
        "  #traversal the right subtree\n",
        "  inOrder(root.getRight())\n",
        "\n"
      ],
      "metadata": {
        "id": "BTBoLr8PIylz"
      },
      "execution_count": null,
      "outputs": []
    },
    {
      "cell_type": "code",
      "source": [
        "inOrder(root)"
      ],
      "metadata": {
        "colab": {
          "base_uri": "https://localhost:8080/"
        },
        "id": "2bNwyV6hJz5X",
        "outputId": "aa3b936c-1ff6-4335-e5c4-43f23ca9f0c0"
      },
      "execution_count": null,
      "outputs": [
        {
          "output_type": "stream",
          "name": "stdout",
          "text": [
            "3->2->4->1->6->5->7->"
          ]
        }
      ]
    },
    {
      "cell_type": "code",
      "source": [
        "#post Traversal\n",
        "\n",
        "def postOrder(root):\n",
        "  #base condition\n",
        "  if not root:\n",
        "    return\n",
        "  #traversal the left subtree\n",
        "  postOrder(root.getLeft())\n",
        "\n",
        "  #traversal the right subtree\n",
        "  postOrder(root.getRight())\n",
        "\n",
        "  #print the root\n",
        "  print(root.getData(),end=\"->\")\n",
        "\n",
        "\n"
      ],
      "metadata": {
        "id": "YUicRYdNPnsa"
      },
      "execution_count": null,
      "outputs": []
    },
    {
      "cell_type": "code",
      "source": [
        "postOrder(root)"
      ],
      "metadata": {
        "colab": {
          "base_uri": "https://localhost:8080/"
        },
        "id": "rTCYUHheROTP",
        "outputId": "68c4015d-ba51-4cf6-e5c2-6862730b52dc"
      },
      "execution_count": null,
      "outputs": [
        {
          "output_type": "stream",
          "name": "stdout",
          "text": [
            "3->4->2->6->7->5->1->"
          ]
        }
      ]
    },
    {
      "cell_type": "code",
      "source": [
        "#Level Order Traversal ----use queue"
      ],
      "metadata": {
        "id": "lIkZ4RcNv8jn"
      },
      "execution_count": null,
      "outputs": []
    }
  ]
}